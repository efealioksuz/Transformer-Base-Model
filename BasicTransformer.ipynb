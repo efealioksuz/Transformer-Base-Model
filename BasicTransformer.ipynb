{
  "nbformat": 4,
  "nbformat_minor": 0,
  "metadata": {
    "colab": {
      "provenance": [],
      "authorship_tag": "ABX9TyNiKW9xe9SOtgR27fb/7VjB",
      "include_colab_link": true
    },
    "kernelspec": {
      "name": "python3",
      "display_name": "Python 3"
    },
    "language_info": {
      "name": "python"
    }
  },
  "cells": [
    {
      "cell_type": "markdown",
      "metadata": {
        "id": "view-in-github",
        "colab_type": "text"
      },
      "source": [
        "<a href=\"https://colab.research.google.com/github/efealioksuz/Transformer-Base-Model/blob/main/BasicTransformer.ipynb\" target=\"_parent\"><img src=\"https://colab.research.google.com/assets/colab-badge.svg\" alt=\"Open In Colab\"/></a>"
      ]
    },
    {
      "cell_type": "code",
      "execution_count": null,
      "metadata": {
        "id": "UAR0gPo52tXQ"
      },
      "outputs": [],
      "source": [
        "import numpy as np\n",
        "import torch\n",
        "import torch.nn as nn\n",
        "import math\n",
        "import copy"
      ]
    },
    {
      "cell_type": "code",
      "source": [
        "class MultiHeadAttention(nn.Module):\n",
        "  def __init__(self, d_model, n_heads=8):\n",
        "    super(MultiHeadAttention, self).__init__()\n",
        "    \n",
        "    self.n_heads = n_heads\n",
        "    self.d_key = d_model // n_heads\n",
        "    \n",
        "    self.W_Q = nn.Linear(d_model, d_model)\n",
        "    self.W_K = copy.deepcopy(self.W_Q)\n",
        "    self.W_V = copy.deepcopy(self.W_Q)\n",
        "    self.W_O = copy.deepcopy(self.W_Q)\n",
        "  \n",
        "  def Attention(self, query, key, value, mask=None):\n",
        "    d = query.size(-1)\n",
        "    x = (torch.matmul(query, key.transpose(-2,-1)))/math.sqrt(d)\n",
        "    if mask != None:\n",
        "      x = x.masked_fill(mask == 0, float('-inf'))\n",
        "    x = x.softmax(-1)\n",
        "    x = torch.matmul(x, value)\n",
        "    return x\n",
        "    \n",
        "  def forward(self, query, key, value, mask=None):\n",
        "    batch_size = query.shape[0]\n",
        "\n",
        "    query = self.W_Q(query)\n",
        "    parallel_queries = query.reshape(batch_size, -1, self.n_heads, self.d_key).transpose(1,2)\n",
        "\n",
        "    key = self.W_K(key)\n",
        "    parallel_keys = key.reshape(batch_size, -1, self.n_heads, self.d_key).transpose(1,2)\n",
        "\n",
        "    value = self.W_V(value)\n",
        "    parallel_values = value.reshape(batch_size, -1, self.n_heads, self.d_key).transpose(1,2)\n",
        "\n",
        "    if mask != None:\n",
        "      mask = mask.unsqueeze(1)\n",
        "      x = self.Attention(parallel_queries, parallel_keys, parallel_values, mask)\n",
        "    else:\n",
        "      x = self.Attention(parallel_queries, parallel_keys, parallel_values)\n",
        "      \n",
        "    x = x.transpose(1,2)\n",
        "    x = x.reshape(batch_size, -1, self.n_heads * self.d_key)\n",
        "\n",
        "    return self.W_O(x)"
      ],
      "metadata": {
        "id": "Knc9dF2f5Boy"
      },
      "execution_count": null,
      "outputs": []
    },
    {
      "cell_type": "code",
      "source": [
        "class EncoderLayer(nn.Module):\n",
        "  def __init__(self, d_model, attention, d_FFN=2048, dropout=0.1):\n",
        "    super(EncoderLayer, self).__init__()\n",
        "    self.d_model = d_model\n",
        "    self.MultiHeadAttention = attention\n",
        "    self.d_FFN = d_FFN\n",
        "    self.dropout = dropout\n",
        "  \n",
        "  def AttentionLayer(self, X):\n",
        "    attention = self.MultiHeadAttention(X, X, X)\n",
        "    attention = nn.Dropout(self.dropout)(attention)\n",
        "    X = X + attention\n",
        "    return nn.LayerNorm(self.d_model)(X)\n",
        "  \n",
        "  def FeedForwardLayer(self, X):\n",
        "    output = nn.Linear(self.d_model, self.d_FFN)(X)\n",
        "    output = nn.ReLU()(output)\n",
        "    output = nn.Linear(self.d_FFN, self.d_model)(output)\n",
        "    output = nn.Dropout(self.dropout)(output)\n",
        "    X = X + output\n",
        "    return nn.LayerNorm(self.d_model)(X)\n",
        " \n",
        "  def forward(self, X):\n",
        "    X = self.AttentionLayer(X)\n",
        "    X = self.FeedForwardLayer(X)\n",
        "    return X"
      ],
      "metadata": {
        "id": "S-WZreoFirmQ"
      },
      "execution_count": null,
      "outputs": []
    },
    {
      "cell_type": "code",
      "source": [
        "class Encoder(nn.Module):\n",
        "  def __init__(self, layer, N=6):\n",
        "    super(Encoder, self).__init__()\n",
        "    self.encoder_layer = layer\n",
        "    self.encoder_layers = nn.ModuleList([copy.deepcopy(self.encoder_layer) for _ in range(N)])\n",
        "  \n",
        "  def forward(self, X):\n",
        "    for encoder_layer in self.encoder_layers:\n",
        "      X = encoder_layer(X)\n",
        "    return X"
      ],
      "metadata": {
        "id": "YjbPHN41H0lh"
      },
      "execution_count": null,
      "outputs": []
    },
    {
      "cell_type": "code",
      "source": [
        "class DecoderLayer(nn.Module):\n",
        "  def __init__(self, d_model, attention, d_FFN=2048, dropout=0.1):\n",
        "    super(DecoderLayer, self).__init__()\n",
        "    self.d_model = d_model\n",
        "    self.MultiHeadAttention = attention\n",
        "    self.d_FFN = d_FFN\n",
        "    self.dropout = dropout\n",
        "\n",
        "  def MaskedAttentionLayer(self, X):\n",
        "    d_stc = X.shape[1]\n",
        "    mask = torch.triu(torch.ones([1,d_stc,d_stc]), diagonal=1)\n",
        "    masked_attention = self.MultiHeadAttention(X,X,X,mask)\n",
        "    masked_attention = nn.Dropout(self.dropout)(masked_attention)\n",
        "    X = X + masked_attention\n",
        "    return nn.LayerNorm(self.d_model)(X)\n",
        "  \n",
        "  def AttentionLayer(self, X, M):\n",
        "    attention = self.MultiHeadAttention(X, M, M)\n",
        "    attention = nn.Dropout(self.dropout)(attention)\n",
        "    X = X + attention\n",
        "    return nn.LayerNorm(self.d_model)(X)\n",
        "\n",
        "  def FeedForwardLayer(self, X):\n",
        "    output = nn.Linear(self.d_model, self.d_FFN)(X)\n",
        "    output = nn.ReLU()(output)\n",
        "    output = nn.Linear(self.d_FFN, self.d_model)(output)\n",
        "    output = nn.Dropout(self.dropout)(output)\n",
        "    X = X + output\n",
        "    return nn.LayerNorm(self.d_model)(X)\n",
        "  \n",
        "  def forward(self, X, M):\n",
        "    X = self.MaskedAttentionLayer(X)\n",
        "    X = self.AttentionLayer(X,M)\n",
        "    X = self.FeedForwardLayer(X)\n",
        "    return X"
      ],
      "metadata": {
        "id": "sogBtVDjtdtn"
      },
      "execution_count": null,
      "outputs": []
    },
    {
      "cell_type": "code",
      "source": [
        "class Decoder(nn.Module):\n",
        "  def __init__(self, layer, N=6):\n",
        "    super(Decoder, self).__init__()\n",
        "    self.decoder_layer = layer\n",
        "    self.decoder_layers = nn.ModuleList([copy.deepcopy(self.decoder_layer) for _ in range(N)])\n",
        "\n",
        "  def forward(self, X, M):\n",
        "    for decoder_layer in self.decoder_layers:\n",
        "      X = decoder_layer(X, M)\n",
        "    return X"
      ],
      "metadata": {
        "id": "zffWYgOXuO9M"
      },
      "execution_count": null,
      "outputs": []
    },
    {
      "cell_type": "code",
      "source": [
        "class PositionalEncoding(nn.Module):\n",
        "  def __init__(self, d_model):\n",
        "    super(PositionalEncoding, self).__init__()\n",
        "    self.d_model = d_model\n",
        "\n",
        "  def forward(self, X):\n",
        "    d_sentence = X.shape[-2]\n",
        "    \n",
        "    i = torch.arange(self.d_model).unsqueeze(0)\n",
        "    pos = torch.arange(d_sentence).unsqueeze(1)\n",
        "    \n",
        "    angles = 1/torch.pow(10000, (2*(i//2))/self.d_model)\n",
        "    angles = pos*angles\n",
        "    \n",
        "    angles[:, 0::2] = torch.sin(angles[:, 0::2])\n",
        "    angles[:, 1::2] = torch.cos(angles[:, 1::2])\n",
        "\n",
        "    pos_encoding = angles.unsqueeze(0)\n",
        "    X = X + pos_encoding.requires_grad(False)\n",
        "    return X"
      ],
      "metadata": {
        "id": "hxAVBM0dDBL5"
      },
      "execution_count": null,
      "outputs": []
    },
    {
      "cell_type": "code",
      "source": [
        "class Embeddings(nn.Module):\n",
        "  def __init__(self, d_model, vocab_size):\n",
        "    super(Embeddings,self).__init__()\n",
        "    self.convert = nn.Embedding(vocab_size, d_model)\n",
        "    self.d_model = d_model\n",
        "\n",
        "  def forward(self, x):\n",
        "    return self.convert(x)*math.sqrt(self.d_model)"
      ],
      "metadata": {
        "id": "mRUU9vu2Dzpd"
      },
      "execution_count": null,
      "outputs": []
    },
    {
      "cell_type": "code",
      "source": [
        "class Generator(nn.Module):\n",
        "    def __init__(self, d_model, vocab_size):\n",
        "        super(Generator, self).__init__()\n",
        "        self.proj = nn.Linear(d_model, vocab_size)\n",
        "\n",
        "    def forward(self, x):\n",
        "        return nn.LogSoftmax(self.proj(x), dim=-1)"
      ],
      "metadata": {
        "id": "j-rFP-rogMi-"
      },
      "execution_count": null,
      "outputs": []
    },
    {
      "cell_type": "code",
      "source": [
        "class Transformer(nn.Module):\n",
        "  def __init__(self, d_model, input_vocab, output_vocab):\n",
        "    super(Transformer, self).__init__()\n",
        "    self.d_model = d_model\n",
        "    self.input_vocab = input_vocab\n",
        "    self.output_vocab = output_vocab\n",
        "    self.multiheadAttention = MultiHeadAttention(self.d_model)\n",
        "    self.encoder = Encoder(EncoderLayer(self.d_model, self.multiheadAttention))\n",
        "    self.decoder = Decoder(DecoderLayer(self.d_model, self.multiheadAttention))\n",
        "    self.pos_encod = PositionalEncoding(self.d_model)\n",
        "    self.input_embeddings = Embeddings(self.d_model, self.input_vocab)\n",
        "    self.output_embeddings = Embeddings(self.d_model, self.output_vocab)\n",
        "    self.generator = Generator(self.d_model, self.output_vocab)\n",
        "\n",
        "  def forward(self, source, target):\n",
        "    X = self.input_embeddings(source)\n",
        "    X = self.pos_encod(X)\n",
        "    M = self.encoder(X)\n",
        "    \n",
        "    Y = self.output_embeddings(target)\n",
        "    Y = self.pos_encod(Y)\n",
        "    Y = self.decoder(Y, M)\n",
        "\n",
        "    return self.generator(Y)"
      ],
      "metadata": {
        "id": "DiD-R6ufk8FV"
      },
      "execution_count": null,
      "outputs": []
    },
    {
      "cell_type": "code",
      "source": [],
      "metadata": {
        "id": "tCvXicQtADsX"
      },
      "execution_count": null,
      "outputs": []
    }
  ]
}